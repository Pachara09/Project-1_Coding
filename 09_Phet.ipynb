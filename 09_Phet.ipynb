{
  "nbformat": 4,
  "nbformat_minor": 0,
  "metadata": {
    "colab": {
      "provenance": [],
      "authorship_tag": "ABX9TyMx3TdZ+/C2M0+D/kaTydOU",
      "include_colab_link": true
    },
    "kernelspec": {
      "name": "python3",
      "display_name": "Python 3"
    },
    "language_info": {
      "name": "python"
    }
  },
  "cells": [
    {
      "cell_type": "markdown",
      "metadata": {
        "id": "view-in-github",
        "colab_type": "text"
      },
      "source": [
        "<a href=\"https://colab.research.google.com/github/Pachara09/Project-1_Coding/blob/main/09_Phet.ipynb\" target=\"_parent\"><img src=\"https://colab.research.google.com/assets/colab-badge.svg\" alt=\"Open In Colab\"/></a>"
      ]
    },
    {
      "cell_type": "markdown",
      "source": [
        "## เลขที่ 9 เพชร นายพชร บุญริมสนอง\n",
        "No.9 Phet Pachara Bunrimsanong\n"
      ],
      "metadata": {
        "id": "MBGt_VAccYFd"
      }
    },
    {
      "cell_type": "markdown",
      "source": [
        "20 พฤษภาคม 2567\n",
        "\n",
        "*  ได้รู้ว่า print ใช้อย่างไรและสามารถทำอะไรได้บ้าง ยกตัวอย่างเช่น การบวกเลข\n",
        "*  รู้วิธีการเว้นบรรทัดในหลายวิธี\n",
        "\n",
        "\n",
        "\n",
        "\n"
      ],
      "metadata": {
        "id": "D-yqqjK9-ug6"
      }
    },
    {
      "cell_type": "code",
      "execution_count": null,
      "metadata": {
        "id": "JNNSC0brahfW",
        "colab": {
          "base_uri": "https://localhost:8080/"
        },
        "outputId": "04d2a2d4-fcc5-4c17-cde4-038cda7ac1a8"
      },
      "outputs": [
        {
          "output_type": "stream",
          "name": "stdout",
          "text": [
            "สวัสดีครับจากผมเพชร\n"
          ]
        }
      ],
      "source": [
        "print('สวัสดีครับจากผมเพชร')"
      ]
    },
    {
      "cell_type": "code",
      "source": [
        "print('ความแตกต่างระหว่างคนเก่งกับคนไม่เก่ง คือ \"การใช้เวลาว่างให้เป็นประโยชน์\" ')"
      ],
      "metadata": {
        "colab": {
          "base_uri": "https://localhost:8080/"
        },
        "id": "dTsiKnGlEKcK",
        "outputId": "cfa5a9db-394b-4f64-83f0-9c7392e653c9"
      },
      "execution_count": null,
      "outputs": [
        {
          "output_type": "stream",
          "name": "stdout",
          "text": [
            "ความแตกต่างระหว่างคนเก่งกับคนไม่เก่ง คือ \"การใช้เวลาว่างให้เป็นประโยชน์\"\n"
          ]
        }
      ]
    },
    {
      "cell_type": "markdown",
      "source": [],
      "metadata": {
        "id": "_vcq2HPNaETi"
      }
    },
    {
      "cell_type": "markdown",
      "source": [
        "29 พฤษภาคม 2567\n",
        "\n",
        "*   ได้รู้ว่าตัวแปรควรเขียนอย่างไรให้ถูกต้อง\n",
        "*   ประเภทของข้อมูล\n",
        "\n"
      ],
      "metadata": {
        "id": "avgRFcN5aHmx"
      }
    },
    {
      "cell_type": "code",
      "source": [
        "a = 2\n",
        "b = 1.5\n",
        "c = \"M.4/4\"\n",
        "\n",
        "type(c)\n",
        "\n",
        "print(\"ตัวแปลที่ฉันคิด คือ male\")"
      ],
      "metadata": {
        "id": "jRneCQ_laMwR"
      },
      "execution_count": null,
      "outputs": []
    },
    {
      "cell_type": "code",
      "source": [
        "numeric1 = 5\n",
        "print(\"numeric1\")\n",
        "type(numeric1)\n"
      ],
      "metadata": {
        "colab": {
          "base_uri": "https://localhost:8080/"
        },
        "id": "wJiNUgwikkOa",
        "outputId": "aebcbcbc-2cc8-48c8-f752-e6232141c360"
      },
      "execution_count": null,
      "outputs": [
        {
          "output_type": "stream",
          "name": "stdout",
          "text": [
            "numeric1\n"
          ]
        },
        {
          "output_type": "execute_result",
          "data": {
            "text/plain": [
              "int"
            ]
          },
          "metadata": {},
          "execution_count": 7
        }
      ]
    },
    {
      "cell_type": "markdown",
      "source": [
        "5 มิถุนายน 2567\n",
        "\n",
        "*   index นั้นจะแสดงตัวหลังสือโดยใช้เลขนำเข้าข้อมูลจาก 0 และขึ้นไปเรื่อยๆ หรือ -1 และไปเรื่อยๆ\n",
        "* p y t h o n\n",
        "  1 2 3 4 5 6\n",
        "\n",
        "*  ความสัมพันธ์ของคอมพิวเตอร์ กับการเขียนโปรแกรม\n",
        "1.  Input    = นำเข้าข้อมูล = ตัวอย่างเช่น การเลื่อนเมาส์\n",
        "2.  Process = ประมวลผลข้อมูล = คอมพิวเตอร์ประมวลให้ไปทิศที่เลื่อน\n",
        "3.  Output  = แสดงผลข้อมูล = แสดงผลทางหน้าจอ\n",
        "\n",
        "\n"
      ],
      "metadata": {
        "id": "3DpoeZpLWdGU"
      }
    },
    {
      "cell_type": "code",
      "source": [
        "string1 = 'Python'\n",
        "print(string1[0])"
      ],
      "metadata": {
        "colab": {
          "base_uri": "https://localhost:8080/"
        },
        "id": "3XsZBqwIWoXj",
        "outputId": "dcbf4971-b172-40e9-bdc9-832d5163b8ab"
      },
      "execution_count": null,
      "outputs": [
        {
          "output_type": "stream",
          "name": "stdout",
          "text": [
            "P\n"
          ]
        }
      ]
    },
    {
      "cell_type": "markdown",
      "source": [
        "26 มิถุนายน 2567\n",
        "\n",
        "\n",
        "*   input\n",
        "*   การคำนวนหาพื้นที่สี่เหลี่ยม\n",
        "\n"
      ],
      "metadata": {
        "id": "C8jvFUGkt30U"
      }
    },
    {
      "cell_type": "code",
      "source": [
        "name = input(\"What is you name?\")\n",
        "print(\"ยินดีที่ได้รู้จักครับ\",name)"
      ],
      "metadata": {
        "id": "zIV93_tXu8qg"
      },
      "execution_count": null,
      "outputs": []
    },
    {
      "cell_type": "code",
      "source": [
        "side = int(input(\"ความยาวด้าน(ซม.) คือ\"))\n",
        "\n",
        "area = side * side\n",
        "\n",
        "print(\"พื้นที่สีเหลี่ยม เท่ากับ \",area,\" ตร.ซม.\")"
      ],
      "metadata": {
        "colab": {
          "base_uri": "https://localhost:8080/"
        },
        "id": "1IJoJZlTy5KC",
        "outputId": "5b9a9f46-f463-4b55-cb10-8196e6f95e37"
      },
      "execution_count": null,
      "outputs": [
        {
          "output_type": "stream",
          "name": "stdout",
          "text": [
            "ความยาวด้าน(ซม.) คือ50\n",
            "พื้นที่สีเหลี่ยม เท่ากับ  2500  ตร.ซม.\n"
          ]
        }
      ]
    },
    {
      "cell_type": "markdown",
      "source": [
        "1 กรกฎาคม 2567\n",
        "* แบบฝึกหัด"
      ],
      "metadata": {
        "id": "sbN8ghSwSw4D"
      }
    },
    {
      "cell_type": "code",
      "source": [
        "lenght = float(input('ความยาว(ซม.) คือ'))\n",
        "width = float(input('ความกว้าง(ซม.) คือ'))\n",
        "\n",
        "area = lenght * width\n",
        "\n",
        "print(\"พื้นที่สีเหลี่ยมผืนผ้า เท่ากับ \",area,\" ตร.ซม.\")"
      ],
      "metadata": {
        "colab": {
          "base_uri": "https://localhost:8080/"
        },
        "id": "C71Uo3xBS5KO",
        "outputId": "aab6f765-c433-452d-90fb-bca30e0cc27a"
      },
      "execution_count": null,
      "outputs": [
        {
          "output_type": "stream",
          "name": "stdout",
          "text": [
            "ความยาว(ซม.) คือ4\n",
            "ความกว้าง(ซม.) คือ5\n",
            "พื้นที่สีเหลี่ยมผืนผ้า เท่ากับ  20.0  ตร.ซม.\n"
          ]
        }
      ]
    },
    {
      "cell_type": "code",
      "source": [
        "s = float(input(\"ระยะทาง (เมตร) คือ\"))\n",
        "t = float(input(\"เวลา (วินาที) คือ\"))\n",
        "\n",
        "ความเร็ว = s / t\n",
        "\n",
        "print(\"การเคลื่อนที่แนวตรง เท่ากับ\",ความเร็ว,\"m/s\")"
      ],
      "metadata": {
        "colab": {
          "base_uri": "https://localhost:8080/"
        },
        "id": "9MtOAFaSTUyE",
        "outputId": "f60a4fcb-9730-4820-a9d8-f82fb70daa11"
      },
      "execution_count": null,
      "outputs": [
        {
          "output_type": "stream",
          "name": "stdout",
          "text": [
            "ระยะทาง (เมตร) คือ10\n",
            "เวลา (วินาที) คือ5\n",
            "การเคลื่อนที่แนวตรง เท่ากับ 2.0 m/s\n"
          ]
        }
      ]
    },
    {
      "cell_type": "code",
      "source": [
        "print(\"ยินดีต้อนรับคุณชื่ออะไร\")\n",
        "name = input(\"กรอกชื่อผู้ใช้ \")\n",
        "\n",
        "print(\"\\nโปรมแกรมคำนวนค่าดัชนีมวลกาย\")\n",
        "\n",
        "น้ำหนัก = float(input(\"\\nน้ำหนัก (กิโลกลัม) \"))\n",
        "ส่วนสูง = float(input(\"ส่วนสูง (เมตร) \"))\n",
        "\n",
        "BMI = น้ำหนัก / (ส่วนสูง * ส่วนสูง)\n",
        "\n",
        "print(\"\\nBMI เท่ากับ\",BMI,)\n",
        "\n",
        "print(\"\\nจัดทำโดย นายพชร บุญริมสนอง\")"
      ],
      "metadata": {
        "colab": {
          "base_uri": "https://localhost:8080/"
        },
        "id": "GSrB_pYVYIpQ",
        "outputId": "c94ad3dd-4076-47f2-a029-f269e5e9393c"
      },
      "execution_count": null,
      "outputs": [
        {
          "output_type": "stream",
          "name": "stdout",
          "text": [
            "ยินดีต้อนรับคุณชื่ออะไร\n",
            "กรอกชื่อผู้ใช้ เพชร\n",
            "\n",
            "โปรมแกรมคำนวนค่าดัชนีมวลกาย\n",
            "\n",
            "น้ำหนัก (กิโลกลัม) 60\n",
            "ส่วนสูง (เมตร) 1.75\n",
            "\n",
            "BMI เท่ากับ 19.591836734693878\n",
            "\n",
            "จัดทำโดย นายพชร บุญริมสนอง\n"
          ]
        }
      ]
    },
    {
      "cell_type": "markdown",
      "source": [
        "เงื่อนไข BMI\n",
        "\n",
        "ถ้า BMI น้อยกว่า 1.85 แปลผลคือ ตำกว่าเกณฑ์ แนะนำ คือ ให้ทานอาหารให้มากขึ้น\n",
        "\n",
        "ถ้า BMI เท่ากับ (อยู๋ระหว่าง) 18.5-22.9 แปลผลคือ สมส่วน หรือตามเกณฑ์\n",
        "\n",
        "ถ้า BMI มากกว่า 22.9 แปลผล คือ เกินเกณฑ์ แนะนำ คือ ให้ออกกำลังกายและควบคุมอาหาร"
      ],
      "metadata": {
        "id": "JAqaU5DqiB7B"
      }
    }
  ]
}